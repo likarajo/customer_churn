{
 "cells": [
  {
   "cell_type": "markdown",
   "metadata": {},
   "source": [
    "## Import the required libraries"
   ]
  },
  {
   "cell_type": "code",
   "execution_count": 26,
   "metadata": {},
   "outputs": [],
   "source": [
    "import pandas as pd\n",
    "import numpy as np\n",
    "import torch\n",
    "import torch.nn as nn\n",
    "import matplotlib.pyplot as plt\n",
    "from sklearn.metrics import classification_report, confusion_matrix, accuracy_score\n",
    "import pickle"
   ]
  },
  {
   "cell_type": "markdown",
   "metadata": {},
   "source": [
    "## Import the Dataset"
   ]
  },
  {
   "cell_type": "code",
   "execution_count": 2,
   "metadata": {},
   "outputs": [
    {
     "data": {
      "text/html": [
       "<div>\n",
       "<style scoped>\n",
       "    .dataframe tbody tr th:only-of-type {\n",
       "        vertical-align: middle;\n",
       "    }\n",
       "\n",
       "    .dataframe tbody tr th {\n",
       "        vertical-align: top;\n",
       "    }\n",
       "\n",
       "    .dataframe thead th {\n",
       "        text-align: right;\n",
       "    }\n",
       "</style>\n",
       "<table border=\"1\" class=\"dataframe\">\n",
       "  <thead>\n",
       "    <tr style=\"text-align: right;\">\n",
       "      <th></th>\n",
       "      <th>RowNumber</th>\n",
       "      <th>CustomerId</th>\n",
       "      <th>Surname</th>\n",
       "      <th>CreditScore</th>\n",
       "      <th>Geography</th>\n",
       "      <th>Gender</th>\n",
       "      <th>Age</th>\n",
       "      <th>Tenure</th>\n",
       "      <th>Balance</th>\n",
       "      <th>NumOfProducts</th>\n",
       "      <th>HasCrCard</th>\n",
       "      <th>IsActiveMember</th>\n",
       "      <th>EstimatedSalary</th>\n",
       "      <th>Exited</th>\n",
       "    </tr>\n",
       "  </thead>\n",
       "  <tbody>\n",
       "    <tr>\n",
       "      <th>0</th>\n",
       "      <td>1</td>\n",
       "      <td>15634602</td>\n",
       "      <td>Hargrave</td>\n",
       "      <td>619</td>\n",
       "      <td>France</td>\n",
       "      <td>Female</td>\n",
       "      <td>42</td>\n",
       "      <td>2</td>\n",
       "      <td>0.00</td>\n",
       "      <td>1</td>\n",
       "      <td>1</td>\n",
       "      <td>1</td>\n",
       "      <td>101348.88</td>\n",
       "      <td>1</td>\n",
       "    </tr>\n",
       "    <tr>\n",
       "      <th>1</th>\n",
       "      <td>2</td>\n",
       "      <td>15647311</td>\n",
       "      <td>Hill</td>\n",
       "      <td>608</td>\n",
       "      <td>Spain</td>\n",
       "      <td>Female</td>\n",
       "      <td>41</td>\n",
       "      <td>1</td>\n",
       "      <td>83807.86</td>\n",
       "      <td>1</td>\n",
       "      <td>0</td>\n",
       "      <td>1</td>\n",
       "      <td>112542.58</td>\n",
       "      <td>0</td>\n",
       "    </tr>\n",
       "    <tr>\n",
       "      <th>2</th>\n",
       "      <td>3</td>\n",
       "      <td>15619304</td>\n",
       "      <td>Onio</td>\n",
       "      <td>502</td>\n",
       "      <td>France</td>\n",
       "      <td>Female</td>\n",
       "      <td>42</td>\n",
       "      <td>8</td>\n",
       "      <td>159660.80</td>\n",
       "      <td>3</td>\n",
       "      <td>1</td>\n",
       "      <td>0</td>\n",
       "      <td>113931.57</td>\n",
       "      <td>1</td>\n",
       "    </tr>\n",
       "    <tr>\n",
       "      <th>3</th>\n",
       "      <td>4</td>\n",
       "      <td>15701354</td>\n",
       "      <td>Boni</td>\n",
       "      <td>699</td>\n",
       "      <td>France</td>\n",
       "      <td>Female</td>\n",
       "      <td>39</td>\n",
       "      <td>1</td>\n",
       "      <td>0.00</td>\n",
       "      <td>2</td>\n",
       "      <td>0</td>\n",
       "      <td>0</td>\n",
       "      <td>93826.63</td>\n",
       "      <td>0</td>\n",
       "    </tr>\n",
       "    <tr>\n",
       "      <th>4</th>\n",
       "      <td>5</td>\n",
       "      <td>15737888</td>\n",
       "      <td>Mitchell</td>\n",
       "      <td>850</td>\n",
       "      <td>Spain</td>\n",
       "      <td>Female</td>\n",
       "      <td>43</td>\n",
       "      <td>2</td>\n",
       "      <td>125510.82</td>\n",
       "      <td>1</td>\n",
       "      <td>1</td>\n",
       "      <td>1</td>\n",
       "      <td>79084.10</td>\n",
       "      <td>0</td>\n",
       "    </tr>\n",
       "  </tbody>\n",
       "</table>\n",
       "</div>"
      ],
      "text/plain": [
       "   RowNumber  CustomerId   Surname  CreditScore Geography  Gender  Age  \\\n",
       "0          1    15634602  Hargrave          619    France  Female   42   \n",
       "1          2    15647311      Hill          608     Spain  Female   41   \n",
       "2          3    15619304      Onio          502    France  Female   42   \n",
       "3          4    15701354      Boni          699    France  Female   39   \n",
       "4          5    15737888  Mitchell          850     Spain  Female   43   \n",
       "\n",
       "   Tenure    Balance  NumOfProducts  HasCrCard  IsActiveMember  \\\n",
       "0       2       0.00              1          1               1   \n",
       "1       1   83807.86              1          0               1   \n",
       "2       8  159660.80              3          1               0   \n",
       "3       1       0.00              2          0               0   \n",
       "4       2  125510.82              1          1               1   \n",
       "\n",
       "   EstimatedSalary  Exited  \n",
       "0        101348.88       1  \n",
       "1        112542.58       0  \n",
       "2        113931.57       1  \n",
       "3         93826.63       0  \n",
       "4         79084.10       0  "
      ]
     },
     "execution_count": 2,
     "metadata": {},
     "output_type": "execute_result"
    }
   ],
   "source": [
    "dataset = pd.read_csv('data/bank_churn_data.csv')\n",
    "dataset.head()"
   ]
  },
  {
   "cell_type": "markdown",
   "metadata": {},
   "source": [
    "## Data preprocessing"
   ]
  },
  {
   "cell_type": "markdown",
   "metadata": {},
   "source": [
    "### Segregate the features and labels"
   ]
  },
  {
   "cell_type": "code",
   "execution_count": 3,
   "metadata": {},
   "outputs": [
    {
     "data": {
      "text/plain": [
       "Index(['RowNumber', 'CustomerId', 'Surname', 'CreditScore', 'Geography',\n",
       "       'Gender', 'Age', 'Tenure', 'Balance', 'NumOfProducts', 'HasCrCard',\n",
       "       'IsActiveMember', 'EstimatedSalary', 'Exited'],\n",
       "      dtype='object')"
      ]
     },
     "execution_count": 3,
     "metadata": {},
     "output_type": "execute_result"
    }
   ],
   "source": [
    "dataset.columns"
   ]
  },
  {
   "cell_type": "code",
   "execution_count": 4,
   "metadata": {},
   "outputs": [],
   "source": [
    "unuseful_features = ['RowNumber', 'CustomerId', 'Surname']\n",
    "categorical_features = ['Geography', 'Gender', 'HasCrCard', 'IsActiveMember']\n",
    "numerical_features = ['CreditScore', 'Age', 'Tenure', 'Balance', 'NumOfProducts', 'EstimatedSalary']\n",
    "labels = ['Exited']"
   ]
  },
  {
   "cell_type": "markdown",
   "metadata": {},
   "source": [
    "### Set the categorical feature-columns"
   ]
  },
  {
   "cell_type": "code",
   "execution_count": 5,
   "metadata": {},
   "outputs": [],
   "source": [
    "for feature in categorical_features:\n",
    "    dataset[feature] = dataset[feature].astype('category')"
   ]
  },
  {
   "cell_type": "markdown",
   "metadata": {},
   "source": [
    "### Convert the categorical feature-columns to tensors\n",
    "* Convert the categorical columns to their code-values array\n",
    "* Convert the array to a tensor\n",
    "* Apply *torch.int64* as the data type for categorical columns"
   ]
  },
  {
   "cell_type": "code",
   "execution_count": 6,
   "metadata": {},
   "outputs": [
    {
     "name": "stdout",
     "output_type": "stream",
     "text": [
      "torch.Size([10000, 4])\n"
     ]
    }
   ],
   "source": [
    "geo = dataset['Geography'].cat.codes.values\n",
    "gen = dataset['Gender'].cat.codes.values\n",
    "hcc = dataset['HasCrCard'].cat.codes.values\n",
    "iam = dataset['IsActiveMember'].cat.codes.values\n",
    "\n",
    "categorical_data = np.stack([geo, gen, hcc, iam], 1)\n",
    "\n",
    "categorical_tensors = torch.tensor(categorical_data, dtype=torch.int64)\n",
    "print(categorical_tensors.shape)"
   ]
  },
  {
   "cell_type": "markdown",
   "metadata": {},
   "source": [
    "### Convert the numerical feature-columns to tensors\n",
    "* Convert the numerical columns to their values array\n",
    "* Convert the array to a tensor\n",
    "* Apply *torch.float* as the data type for numerical feature-columns"
   ]
  },
  {
   "cell_type": "code",
   "execution_count": 7,
   "metadata": {},
   "outputs": [
    {
     "name": "stdout",
     "output_type": "stream",
     "text": [
      "torch.Size([10000, 6])\n"
     ]
    }
   ],
   "source": [
    "numerical_data = np.stack([dataset[col].values for col in numerical_features], 1)\n",
    "\n",
    "numerical_tensors = torch.tensor(numerical_data, dtype=torch.float)\n",
    "print(numerical_tensors.shape)"
   ]
  },
  {
   "cell_type": "markdown",
   "metadata": {},
   "source": [
    "### Convert the label-column to tensor\n",
    "* Obtain the label-column values\n",
    "* Convert them to a tensor\n",
    "* Flatten the same"
   ]
  },
  {
   "cell_type": "code",
   "execution_count": 8,
   "metadata": {},
   "outputs": [
    {
     "name": "stdout",
     "output_type": "stream",
     "text": [
      "torch.Size([10000])\n"
     ]
    }
   ],
   "source": [
    "label_data = dataset[labels].values\n",
    "\n",
    "label_tensor = torch.tensor(label_data).flatten()\n",
    "print(label_tensor.shape)"
   ]
  },
  {
   "cell_type": "markdown",
   "metadata": {},
   "source": [
    "## Split data into Training and Test sets\n",
    "* Training data = 80% of total records\n",
    "* Test data = 20% of total records"
   ]
  },
  {
   "cell_type": "code",
   "execution_count": 9,
   "metadata": {},
   "outputs": [
    {
     "name": "stdout",
     "output_type": "stream",
     "text": [
      "categorical train data: 8000\n",
      "numerical train data: 8000\n",
      "train outputs 8000\n",
      "categorical test data: 2000\n",
      "numerical test data: 2000\n",
      "test outputs 2000\n"
     ]
    }
   ],
   "source": [
    "total = dataset.shape[0]\n",
    "test = int(total*.2)\n",
    "\n",
    "categorical_tensors_trn = categorical_tensors[:total-test]\n",
    "print('categorical train data:', len(categorical_tensors_trn))\n",
    "numerical_tensors_trn = numerical_tensors[:total-test]\n",
    "print('numerical train data:', len(numerical_tensors_trn))\n",
    "label_tensor_trn = label_tensor[:total-test]\n",
    "print('train outputs', len(label_tensor_trn))\n",
    "\n",
    "categorical_tensors_tst = categorical_tensors[total-test:total]\n",
    "print('categorical test data:', len(categorical_tensors_tst))\n",
    "numerical_tensors_tst = numerical_tensors[total-test:total]\n",
    "print('numerical test data:', len(numerical_tensors_tst))\n",
    "label_tensor_tst = label_tensor[total-test:total]\n",
    "print('test outputs', len(label_tensor_tst))"
   ]
  },
  {
   "cell_type": "markdown",
   "metadata": {},
   "source": [
    "## Create the model "
   ]
  },
  {
   "cell_type": "markdown",
   "metadata": {},
   "source": [
    "### Prepare size for the *Embedding* layer\n",
    "* Divide the no. of unique values in the column by 2 but <= 50"
   ]
  },
  {
   "cell_type": "code",
   "execution_count": 10,
   "metadata": {},
   "outputs": [
    {
     "name": "stdout",
     "output_type": "stream",
     "text": [
      "Categorical Embedding sizes: [(3, 2), (2, 1), (2, 1), (2, 1)]\n"
     ]
    }
   ],
   "source": [
    "cat_col_sizes = [len(dataset[f].cat.categories) for f in categorical_features]\n",
    "cat_emb_sizes = [(size, min(50, (size+1)//2)) for size in cat_col_sizes]\n",
    "print('Categorical Embedding sizes:', cat_emb_sizes)"
   ]
  },
  {
   "cell_type": "markdown",
   "metadata": {},
   "source": [
    "### Define the model\n",
    "* The Model class inherits from ***PyTorch***'s **nn** module's ***Module*** class.\n",
    "* Initializing:\n",
    "    * Required Parameters\n",
    "      * **embedding_size**: contains the list of embedding size for the categorical columns\n",
    "      * **num_cols**: total number of numerical columns\n",
    "      * **output_size**: number of possible outputs\n",
    "      * **layers**: list of no. of neurons for all the layers\n",
    "      * **p**: Dropout (default=0.5)\n",
    "    * Initialized variables\n",
    "      * **all_embeddings**: list of ***ModuleList*** objects for the embedding sizes of the categorical columns\n",
    "      * **embedding_dropout**: ***Dropout*** value for all the layers\n",
    "      * **batch_norm_num**: list of ***BatchNorm1d*** objects for all the numerical columns\n",
    "      * **input_size**: size of the input layer; total number of numerical and categorical layers\n",
    "    * Model layers\n",
    "      * ***Linear***: to calculate dot product of input layer and weight matrices\n",
    "      * ***ReLU***: applied as the activation function\n",
    "      * ***BatchNorm1d***: to apply batch normalization to the numerical columns\n",
    "      * ***Dropout***: to avoid overfitting\n",
    "      * ***Linear***: for the output layer\n",
    "    * All the layers set to exectute sequentially using ***Sequential*** class\n",
    "* Passing the embedded categorical and numberical features as inputs to the model\n",
    "  * Obtain the embedded categorical columns\n",
    "  * Add the embedded categorical columns to embedded layer\n",
    "  * Dropout to prevent overfitting\n",
    "  * Normalize the embedded numerical columns\n",
    "  * Add the embedded numerical columns to embedded layer\n",
    "  * Pass the embedded layer to the sequential layers"
   ]
  },
  {
   "cell_type": "code",
   "execution_count": 11,
   "metadata": {},
   "outputs": [],
   "source": [
    "class Model(nn.Module):\n",
    "    \n",
    "    def __init__(self, embedding_size, num_cols, output_size, layers, p=0.5):\n",
    "        super().__init__()\n",
    "        \n",
    "        self.all_embeddings = nn.ModuleList([nn.Embedding(ni, nf) for ni,nf in embedding_size])\n",
    "        \n",
    "        self.embedding_dropout = nn.Dropout(p)\n",
    "        \n",
    "        self.batch_norm_num = nn.BatchNorm1d(num_cols)\n",
    "        \n",
    "        input_size = num_cols + sum((nf for ni,nf in embedding_size))\n",
    "        \n",
    "        all_layers = []\n",
    "        for n in layers:\n",
    "            all_layers.append(nn.Linear(input_size, n))\n",
    "            all_layers.append(nn.ReLU(inplace=True))\n",
    "            all_layers.append(nn.BatchNorm1d(n))\n",
    "            all_layers.append(nn.Dropout(p))\n",
    "            input_size = n\n",
    "        all_layers.append(nn.Linear(layers[-1], output_size))\n",
    "        \n",
    "        self.layers = nn.Sequential(*all_layers)\n",
    "        \n",
    "    def forward(self, cat_emb, num_emb):\n",
    "        \n",
    "        cat_embeddings = []\n",
    "        for i,e in enumerate(self.all_embeddings):\n",
    "            cat_embeddings.append(e(cat_emb[:,i]))\n",
    "        \n",
    "        emb = torch.cat(cat_embeddings, 1)\n",
    "        \n",
    "        emb = self.embedding_dropout(emb)\n",
    "        \n",
    "        num_embeddings = self.batch_norm_num(num_emb)\n",
    "        \n",
    "        emb = torch.cat([emb, num_embeddings], 1)\n",
    "        \n",
    "        emb = self.layers(emb)\n",
    "        \n",
    "        return emb"
   ]
  },
  {
   "cell_type": "markdown",
   "metadata": {},
   "source": [
    "### Set the model \n",
    "Pass the following parameter values:\n",
    "* embedding size of the categorical columns\n",
    "* the number of numerical columns\n",
    "* the number of outputs (2, for exited or not exited)\n",
    "* the list of neurons for the hidden layers (3: 200, 100, 50)\n",
    "* the dropout value (0.4, default=0.5)"
   ]
  },
  {
   "cell_type": "code",
   "execution_count": 12,
   "metadata": {},
   "outputs": [
    {
     "name": "stdout",
     "output_type": "stream",
     "text": [
      "Model(\n",
      "  (all_embeddings): ModuleList(\n",
      "    (0): Embedding(3, 2)\n",
      "    (1): Embedding(2, 1)\n",
      "    (2): Embedding(2, 1)\n",
      "    (3): Embedding(2, 1)\n",
      "  )\n",
      "  (embedding_dropout): Dropout(p=0.4, inplace=False)\n",
      "  (batch_norm_num): BatchNorm1d(6, eps=1e-05, momentum=0.1, affine=True, track_running_stats=True)\n",
      "  (layers): Sequential(\n",
      "    (0): Linear(in_features=11, out_features=200, bias=True)\n",
      "    (1): ReLU(inplace=True)\n",
      "    (2): BatchNorm1d(200, eps=1e-05, momentum=0.1, affine=True, track_running_stats=True)\n",
      "    (3): Dropout(p=0.4, inplace=False)\n",
      "    (4): Linear(in_features=200, out_features=100, bias=True)\n",
      "    (5): ReLU(inplace=True)\n",
      "    (6): BatchNorm1d(100, eps=1e-05, momentum=0.1, affine=True, track_running_stats=True)\n",
      "    (7): Dropout(p=0.4, inplace=False)\n",
      "    (8): Linear(in_features=100, out_features=50, bias=True)\n",
      "    (9): ReLU(inplace=True)\n",
      "    (10): BatchNorm1d(50, eps=1e-05, momentum=0.1, affine=True, track_running_stats=True)\n",
      "    (11): Dropout(p=0.4, inplace=False)\n",
      "    (12): Linear(in_features=50, out_features=2, bias=True)\n",
      "  )\n",
      ")\n"
     ]
    }
   ],
   "source": [
    "model = Model(\n",
    "    embedding_size = cat_emb_sizes,\n",
    "    num_cols = numerical_tensors.shape[1],\n",
    "    output_size = 2,\n",
    "    layers = [200, 100, 50],\n",
    "    p = 0.4\n",
    ")\n",
    "\n",
    "print(model)"
   ]
  },
  {
   "cell_type": "markdown",
   "metadata": {},
   "source": [
    "## Train the model\n",
    "* Define the loss function\n",
    "* Define the optimizer function\n",
    "* Set the number of epochs\n",
    "* Iterate till the number of epochs to train the model\n",
    "  * Pass the embedded training data to the model and predict the label\n",
    "  * Calculate the loss using the loss function\n",
    "  * Save the loss to the aggregated loss list\n",
    "  * Set gradient to zero\n",
    "  * Update the weights based on the loss\n",
    "  * Update the gradient"
   ]
  },
  {
   "cell_type": "code",
   "execution_count": 13,
   "metadata": {},
   "outputs": [
    {
     "name": "stdout",
     "output_type": "stream",
     "text": [
      "epoch:   1 loss:    0.78524\n",
      "epoch:  21 loss:    0.60246\n",
      "epoch:  41 loss:    0.54884\n",
      "epoch:  61 loss:    0.50174\n",
      "epoch:  81 loss:    0.45219\n",
      "epoch: 101 loss:    0.42238\n",
      "epoch: 121 loss:    0.39483\n",
      "epoch: 141 loss:    0.38669\n",
      "epoch: 161 loss:    0.38241\n",
      "epoch: 181 loss:    0.38472\n",
      "epoch: 201 loss:    0.36969\n",
      "epoch: 221 loss:    0.37332\n",
      "epoch: 241 loss:    0.36577\n",
      "epoch: 261 loss:    0.36432\n",
      "epoch: 281 loss:    0.36342\n",
      "epoch: 300 loss:    0.35960\n"
     ]
    }
   ],
   "source": [
    "loss_function = nn.CrossEntropyLoss()\n",
    "optimizer = torch.optim.Adam(model.parameters(), lr=0.001)\n",
    "epochs = 300\n",
    "\n",
    "aggregated_losses = []\n",
    "for i in range(epochs):\n",
    "    i += 1\n",
    "    pred = model(categorical_tensors_trn, numerical_tensors_trn)\n",
    "    loss = loss_function(pred, label_tensor_trn)\n",
    "    aggregated_losses.append(loss) \n",
    "    if i%20 == 1: #print loss after every 20 epochs\n",
    "        print(f'epoch: {i:3} loss: {loss.item():10.5f}')\n",
    "    optimizer.zero_grad()\n",
    "    loss.backward()\n",
    "    optimizer.step()\n",
    "    \n",
    "print(f'epoch: {i:3} loss: {loss.item():10.5f}')"
   ]
  },
  {
   "cell_type": "markdown",
   "metadata": {},
   "source": [
    "### Plot the losses"
   ]
  },
  {
   "cell_type": "code",
   "execution_count": 15,
   "metadata": {},
   "outputs": [
    {
     "data": {
      "image/png": "[encoded data removed]",
      "text/plain": [
       "<Figure size 432x288 with 1 Axes>"
      ]
     },
     "metadata": {
      "needs_background": "light"
     },
     "output_type": "display_data"
    }
   ],
   "source": [
    "plt.figure()\n",
    "plt.plot(range(epochs), aggregated_losses)\n",
    "plt.title('Training loss')\n",
    "plt.xlabel('epoch')\n",
    "plt.ylabel('loss')\n",
    "plt.show()"
   ]
  },
  {
   "cell_type": "markdown",
   "metadata": {},
   "source": [
    "## Test the model"
   ]
  },
  {
   "cell_type": "code",
   "execution_count": 16,
   "metadata": {},
   "outputs": [
    {
     "name": "stdout",
     "output_type": "stream",
     "text": [
      "loss: 0.36882\n"
     ]
    }
   ],
   "source": [
    "with torch.no_grad():\n",
    "    val = model(categorical_tensors_tst, numerical_tensors_tst)\n",
    "    loss = loss_function(val, label_tensor_tst)\n",
    "print(f'loss: {loss:.5f}')"
   ]
  },
  {
   "cell_type": "markdown",
   "metadata": {},
   "source": [
    "## Make predictions\n",
    "* Check predictions for the first five test values\n",
    "* Predictions are a list\n",
    "  * Higher value in the first index implies output is 0\n",
    "  * Higher value in the second index implies output is 1\n",
    "* Retrieve the index of the larger value in the list"
   ]
  },
  {
   "cell_type": "code",
   "execution_count": 18,
   "metadata": {},
   "outputs": [
    {
     "name": "stdout",
     "output_type": "stream",
     "text": [
      "tensor([[ 0.5004, -1.1256],\n",
      "        [ 2.5681, -1.3775],\n",
      "        [ 1.2293, -2.1442],\n",
      "        [ 0.1821, -0.2792],\n",
      "        [ 1.6485, -1.5388]])\n",
      "tensor([0, 0, 0, 0, 0])\n"
     ]
    }
   ],
   "source": [
    "print(val[:5])\n",
    "val = np.argmax(val, axis=1)\n",
    "print(val[:5])"
   ]
  },
  {
   "cell_type": "markdown",
   "metadata": {},
   "source": [
    "## Evaluate the model\n",
    "* Classification report\n",
    "* Confusion matrix\n",
    "* Accuracy score"
   ]
  },
  {
   "cell_type": "code",
   "execution_count": 25,
   "metadata": {},
   "outputs": [
    {
     "name": "stdout",
     "output_type": "stream",
     "text": [
      "Classification Report\n",
      "              precision    recall  f1-score   support\n",
      "\n",
      "           0       0.87      0.94      0.91      1610\n",
      "           1       0.64      0.41      0.50       390\n",
      "\n",
      "    accuracy                           0.84      2000\n",
      "   macro avg       0.76      0.68      0.70      2000\n",
      "weighted avg       0.83      0.84      0.83      2000\n",
      "\n",
      "Confusion Matrix\n",
      "[[1521   89]\n",
      " [ 229  161]]\n",
      "\n",
      "Accuracy Score: 84.1 %\n"
     ]
    }
   ],
   "source": [
    "print('Classification Report')\n",
    "print(classification_report(label_tensor_tst, val))\n",
    "\n",
    "print('Confusion Matrix')\n",
    "print(confusion_matrix(label_tensor_tst, val))\n",
    "\n",
    "print('\\nAccuracy Score:',accuracy_score(label_tensor_tst, val)*100,'%')"
   ]
  },
  {
   "cell_type": "markdown",
   "metadata": {},
   "source": [
    "## Save the model"
   ]
  },
  {
   "cell_type": "code",
   "execution_count": 27,
   "metadata": {},
   "outputs": [],
   "source": [
    "pickle.dump(model, open('model.sav', 'wb'))"
   ]
  }
 ],
 "metadata": {
  "kernelspec": {
   "display_name": "Python 3",
   "language": "python",
   "name": "python3"
  },
  "language_info": {
   "codemirror_mode": {
    "name": "ipython",
    "version": 3
   },
   "file_extension": ".py",
   "mimetype": "text/x-python",
   "name": "python",
   "nbconvert_exporter": "python",
   "pygments_lexer": "ipython3",
   "version": "3.7.0"
  }
 },
 "nbformat": 4,
 "nbformat_minor": 2
}
